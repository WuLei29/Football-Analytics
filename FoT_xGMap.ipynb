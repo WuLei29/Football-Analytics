{
 "cells": [
  {
   "cell_type": "markdown",
   "metadata": {},
   "source": [
    "# xG Model"
   ]
  },
  {
   "cell_type": "code",
   "execution_count": 92,
   "metadata": {},
   "outputs": [],
   "source": [
    "from statsbombpy import sb\n",
    "import matplotlib.pyplot as plt\n",
    "from mplsoccer.pitch import Pitch\n",
    "import seaborn as sns\n",
    "import json\n",
    "import numpy as np\n",
    "import pandas as pd\n",
    "import networkx as nx\n",
    "import math\n",
    "import matplotlib.pyplot as plt\n",
    "\n",
    "from mplsoccer import Pitch, VerticalPitch, Standardizer, FontManager"
   ]
  },
  {
   "cell_type": "code",
   "execution_count": 93,
   "metadata": {},
   "outputs": [],
   "source": [
    "URL1 = ('https://raw.githubusercontent.com/googlefonts/SourceSerifProGFVersion/main/fonts/'\n",
    "        'SourceSerifPro-Regular.ttf')\n",
    "serif_regular = FontManager(URL1)\n",
    "URL2 = ('https://raw.githubusercontent.com/googlefonts/SourceSerifProGFVersion/main/fonts/'\n",
    "        'SourceSerifPro-ExtraLight.ttf')\n",
    "serif_extra_light = FontManager(URL2)\n",
    "URL3 = ('https://raw.githubusercontent.com/google/fonts/main/ofl/rubikmonoone/'\n",
    "        'RubikMonoOne-Regular.ttf')\n",
    "rubik_regular = FontManager(URL3)\n",
    "URL4 = 'https://raw.githubusercontent.com/googlefonts/roboto/main/src/hinted/Roboto-Thin.ttf'\n",
    "robotto_thin = FontManager(URL4)\n",
    "URL5 = ('https://raw.githubusercontent.com/google/fonts/main/apache/robotoslab/'\n",
    "        'RobotoSlab%5Bwght%5D.ttf')\n",
    "robotto_bold = FontManager(URL5)"
   ]
  },
  {
   "cell_type": "code",
   "execution_count": 2,
   "metadata": {},
   "outputs": [],
   "source": [
    "with open(r'C:\\Users\\34626\\OneDrive\\Documents\\Jaume\\Big Data\\Football\\events/events_Spain.json') as f:\n",
    "    data = json.load(f)"
   ]
  },
  {
   "cell_type": "code",
   "execution_count": 3,
   "metadata": {},
   "outputs": [],
   "source": [
    "#Create a data set of shots.\n",
    "train = pd.DataFrame(data)\n",
    "pd.unique(train['subEventName'])\n",
    "shots = train[train['subEventName'] == 'Shot' ]\n",
    "shots_model = pd.DataFrame(columns=['Goal', 'X', 'Y'])"
   ]
  },
  {
   "cell_type": "code",
   "execution_count": 15,
   "metadata": {},
   "outputs": [],
   "source": [
    "#Go through the dataframe and calculate X, Y co-ordinates.\n",
    "#Distance from a line in the centre\n",
    "#Shot angle.\n",
    "#Details of tags can be found here: https://apidocs.wyscout.com/matches-wyid-events"
   ]
  },
  {
   "cell_type": "code",
   "execution_count": null,
   "metadata": {},
   "outputs": [],
   "source": [
    "# setup the Standardizer\n",
    "wyscout_to_statsbomb = Standardizer(pitch_from='wyscout', pitch_to='statsbomb')\n",
    "# transform the coordinates and save to the dataframe\n",
    "x_std, y_std = wyscout_to_statsbomb.transform(df_wyscout.coordinates_x,\n",
    "                                              df_wyscout.coordinates_y)"
   ]
  },
  {
   "cell_type": "code",
   "execution_count": 72,
   "metadata": {},
   "outputs": [],
   "source": [
    "for i, shot in shots.iterrows():\n",
    "\n",
    "    header=0\n",
    "    for shottags in shot['tags']:\n",
    "        if shottags['id'] == 403:\n",
    "            header=1\n",
    "    #Only include non-headers          \n",
    "    if not(header):\n",
    "        shots_model.at[i,'X']=100-shot['positions'][0]['x']\n",
    "        shots_model.at[i,'Y']=shot['positions'][0]['y']\n",
    "        shots_model.at[i,'C']=abs(shot['positions'][0]['y']-50) \n",
    "\n",
    "        #Distance in metres and shot angle in radians.\n",
    "        x=shots_model.at[i,'X']*120/100\n",
    "        y=shots_model.at[i,'C']*80/100\n",
    "        shots_model.at[i,'Distance']=np.sqrt(x**2 + y**2)\n",
    "        a = np.arctan(7.32 *x /(x**2 + y**2 - (7.32/2)**2))\n",
    "\n",
    "        if a<0:\n",
    "            a=np.pi+a\n",
    "        shots_model.at[i, 'Angle'] = a\n",
    "\n",
    "        #Was it a goal\n",
    "        shots_model.at[i,'Goal']=0\n",
    "        for shottags in shot['tags']:\n",
    "                #Tags contain that its a goal\n",
    "                if shottags['id']==101:\n",
    "                    shots_model.at[i,'Goal']=1"
   ]
  },
  {
   "cell_type": "code",
   "execution_count": 73,
   "metadata": {},
   "outputs": [
    {
     "data": {
      "text/html": [
       "<div>\n",
       "<style scoped>\n",
       "    .dataframe tbody tr th:only-of-type {\n",
       "        vertical-align: middle;\n",
       "    }\n",
       "\n",
       "    .dataframe tbody tr th {\n",
       "        vertical-align: top;\n",
       "    }\n",
       "\n",
       "    .dataframe thead th {\n",
       "        text-align: right;\n",
       "    }\n",
       "</style>\n",
       "<table border=\"1\" class=\"dataframe\">\n",
       "  <thead>\n",
       "    <tr style=\"text-align: right;\">\n",
       "      <th></th>\n",
       "      <th>Goal</th>\n",
       "      <th>X</th>\n",
       "      <th>Y</th>\n",
       "      <th>C</th>\n",
       "      <th>Distance</th>\n",
       "      <th>Angle</th>\n",
       "    </tr>\n",
       "  </thead>\n",
       "  <tbody>\n",
       "    <tr>\n",
       "      <th>20</th>\n",
       "      <td>0</td>\n",
       "      <td>7</td>\n",
       "      <td>34</td>\n",
       "      <td>16.0</td>\n",
       "      <td>15.310127</td>\n",
       "      <td>0.271358</td>\n",
       "    </tr>\n",
       "    <tr>\n",
       "      <th>22</th>\n",
       "      <td>0</td>\n",
       "      <td>20</td>\n",
       "      <td>59</td>\n",
       "      <td>9.0</td>\n",
       "      <td>25.056736</td>\n",
       "      <td>0.278487</td>\n",
       "    </tr>\n",
       "    <tr>\n",
       "      <th>107</th>\n",
       "      <td>0</td>\n",
       "      <td>12</td>\n",
       "      <td>57</td>\n",
       "      <td>7.0</td>\n",
       "      <td>15.450566</td>\n",
       "      <td>0.437562</td>\n",
       "    </tr>\n",
       "    <tr>\n",
       "      <th>111</th>\n",
       "      <td>0</td>\n",
       "      <td>13</td>\n",
       "      <td>66</td>\n",
       "      <td>16.0</td>\n",
       "      <td>20.179197</td>\n",
       "      <td>0.282231</td>\n",
       "    </tr>\n",
       "    <tr>\n",
       "      <th>228</th>\n",
       "      <td>0</td>\n",
       "      <td>25</td>\n",
       "      <td>40</td>\n",
       "      <td>10.0</td>\n",
       "      <td>31.048349</td>\n",
       "      <td>0.227028</td>\n",
       "    </tr>\n",
       "    <tr>\n",
       "      <th>...</th>\n",
       "      <td>...</td>\n",
       "      <td>...</td>\n",
       "      <td>...</td>\n",
       "      <td>...</td>\n",
       "      <td>...</td>\n",
       "      <td>...</td>\n",
       "    </tr>\n",
       "    <tr>\n",
       "      <th>628323</th>\n",
       "      <td>0</td>\n",
       "      <td>7</td>\n",
       "      <td>66</td>\n",
       "      <td>16.0</td>\n",
       "      <td>15.310127</td>\n",
       "      <td>0.271358</td>\n",
       "    </tr>\n",
       "    <tr>\n",
       "      <th>628374</th>\n",
       "      <td>0</td>\n",
       "      <td>10</td>\n",
       "      <td>32</td>\n",
       "      <td>18.0</td>\n",
       "      <td>18.744599</td>\n",
       "      <td>0.254283</td>\n",
       "    </tr>\n",
       "    <tr>\n",
       "      <th>628540</th>\n",
       "      <td>1</td>\n",
       "      <td>8</td>\n",
       "      <td>25</td>\n",
       "      <td>25.0</td>\n",
       "      <td>22.184679</td>\n",
       "      <td>0.145737</td>\n",
       "    </tr>\n",
       "    <tr>\n",
       "      <th>628596</th>\n",
       "      <td>0</td>\n",
       "      <td>18</td>\n",
       "      <td>30</td>\n",
       "      <td>20.0</td>\n",
       "      <td>26.880476</td>\n",
       "      <td>0.219367</td>\n",
       "    </tr>\n",
       "    <tr>\n",
       "      <th>628637</th>\n",
       "      <td>0</td>\n",
       "      <td>12</td>\n",
       "      <td>43</td>\n",
       "      <td>7.0</td>\n",
       "      <td>15.450566</td>\n",
       "      <td>0.437562</td>\n",
       "    </tr>\n",
       "  </tbody>\n",
       "</table>\n",
       "<p>6608 rows × 6 columns</p>\n",
       "</div>"
      ],
      "text/plain": [
       "       Goal   X   Y     C   Distance     Angle\n",
       "20        0   7  34  16.0  15.310127  0.271358\n",
       "22        0  20  59   9.0  25.056736  0.278487\n",
       "107       0  12  57   7.0  15.450566  0.437562\n",
       "111       0  13  66  16.0  20.179197  0.282231\n",
       "228       0  25  40  10.0  31.048349  0.227028\n",
       "...     ...  ..  ..   ...        ...       ...\n",
       "628323    0   7  66  16.0  15.310127  0.271358\n",
       "628374    0  10  32  18.0  18.744599  0.254283\n",
       "628540    1   8  25  25.0  22.184679  0.145737\n",
       "628596    0  18  30  20.0  26.880476  0.219367\n",
       "628637    0  12  43   7.0  15.450566  0.437562\n",
       "\n",
       "[6608 rows x 6 columns]"
      ]
     },
     "execution_count": 73,
     "metadata": {},
     "output_type": "execute_result"
    }
   ],
   "source": [
    "shots_model"
   ]
  },
  {
   "cell_type": "code",
   "execution_count": 74,
   "metadata": {},
   "outputs": [],
   "source": [
    "#Two dimensional histogram, numpy command\n",
    "H_Shot=np.histogram2d(shots_model['X'], shots_model['Y'],bins=50,range=[[0, 100],[0, 100]])\n",
    "goals_only=shots_model[shots_model['Goal']==1]\n",
    "H_Goal=np.histogram2d(goals_only['X'], goals_only['Y'],bins=50,range=[[0, 100],[0, 100]])"
   ]
  },
  {
   "cell_type": "code",
   "execution_count": 94,
   "metadata": {},
   "outputs": [
    {
     "data": {
      "image/png": "[encoded data removed]",
      "text/plain": [
       "<Figure size 1008x432 with 2 Axes>"
      ]
     },
     "metadata": {
      "needs_background": "light"
     },
     "output_type": "display_data"
    }
   ],
   "source": [
    "#Plot the number of shots from different points\n",
    "pitch = VerticalPitch(pitch_type='statsbomb', half=False, goal_type= 'box', line_color='black') \n",
    "fig, ax = pitch.draw(figsize=(14, 6))\n",
    "pos=ax.imshow(H_Shot[0], extent=[0,80,120, 0], aspect='auto',cmap=plt.cm.Reds)\n",
    "fig.colorbar(pos, ax=ax)\n",
    "ax.set_title('Number of shots', fontsize= 25, fontproperties=robotto_bold.prop)\n",
    "plt.xlim((-1,81))\n",
    "plt.ylim((-3,35))\n",
    "plt.tight_layout()\n",
    "plt.gca().set_aspect('equal', adjustable='box')\n",
    "plt.show()\n",
    "#fig.savefig('Output/NumberOfShots.pdf', dpi=None, bbox_inches=\"tight\")  "
   ]
  },
  {
   "cell_type": "code",
   "execution_count": 97,
   "metadata": {},
   "outputs": [
    {
     "data": {
      "image/png": "[encoded data removed]",
      "text/plain": [
       "<Figure size 1008x432 with 2 Axes>"
      ]
     },
     "metadata": {
      "needs_background": "light"
     },
     "output_type": "display_data"
    }
   ],
   "source": [
    "#Plot the number of shots from different points\n",
    "pitch = VerticalPitch(pitch_type='statsbomb', half=False, goal_type= 'box', line_color='black')\n",
    "fig, ax = pitch.draw(figsize=(14, 6)) \n",
    "pos=ax.imshow(H_Goal[0], extent=[0,80,120,0], aspect='auto',cmap=plt.cm.Reds)\n",
    "fig.colorbar(pos, ax=ax)\n",
    "ax.set_title('Number of goals', fontsize= 25, fontproperties=robotto_bold.prop)\n",
    "plt.xlim((-1,81))\n",
    "plt.ylim((-3,35))\n",
    "plt.tight_layout()\n",
    "plt.gca().set_aspect('equal', adjustable='box')\n",
    "plt.show()"
   ]
  },
  {
   "cell_type": "code",
   "execution_count": 99,
   "metadata": {},
   "outputs": [
    {
     "name": "stderr",
     "output_type": "stream",
     "text": [
      "C:\\Users\\34626\\AppData\\Local\\Temp\\ipykernel_12324\\3822127920.py:3: RuntimeWarning: invalid value encountered in true_divide\n",
      "  pos=ax.imshow(H_Goal[0]/H_Shot[0], extent=[0,80,120,0], aspect='auto',cmap=plt.cm.Reds,vmin=0, vmax=0.5)\n"
     ]
    },
    {
     "data": {
      "image/png": "[encoded data removed]",
      "text/plain": [
       "<Figure size 1008x432 with 2 Axes>"
      ]
     },
     "metadata": {
      "needs_background": "light"
     },
     "output_type": "display_data"
    }
   ],
   "source": [
    "pitch = VerticalPitch(pitch_type='statsbomb', half=False, goal_type= 'box', line_color='black')\n",
    "fig, ax = pitch.draw(figsize=(14, 6)) \n",
    "pos=ax.imshow(H_Goal[0]/H_Shot[0], extent=[0,80,120,0], aspect='auto',cmap=plt.cm.Reds,vmin=0, vmax=0.5)\n",
    "fig.colorbar(pos, ax=ax)\n",
    "ax.set_title('Proportion of shots resulting in a goal', fontsize= 25, fontproperties=robotto_bold.prop)\n",
    "plt.xlim((-1,81))\n",
    "plt.ylim((-3,35))\n",
    "plt.tight_layout()\n",
    "plt.gca().set_aspect('equal', adjustable='box')\n",
    "plt.show()"
   ]
  },
  {
   "cell_type": "code",
   "execution_count": null,
   "metadata": {},
   "outputs": [],
   "source": []
  }
 ],
 "metadata": {
  "kernelspec": {
   "display_name": "base",
   "language": "python",
   "name": "python3"
  },
  "language_info": {
   "codemirror_mode": {
    "name": "ipython",
    "version": 3
   },
   "file_extension": ".py",
   "mimetype": "text/x-python",
   "name": "python",
   "nbconvert_exporter": "python",
   "pygments_lexer": "ipython3",
   "version": "3.9.12"
  }
 },
 "nbformat": 4,
 "nbformat_minor": 2
}
