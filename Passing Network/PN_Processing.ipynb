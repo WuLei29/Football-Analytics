{
 "cells": [
  {
   "cell_type": "code",
   "execution_count": 4,
   "metadata": {},
   "outputs": [],
   "source": [
    "from abc import ABC, abstractmethod\n",
    "import socceraction.vaep as vaep\n",
    "import pandas as pd\n",
    "import warnings\n",
    "import os\n",
    "from statsbombpy import sb\n",
    "\n",
    "warnings.simplefilter(action='ignore', category=pd.errors.PerformanceWarning)"
   ]
  },
  {
   "cell_type": "code",
   "execution_count": 13,
   "metadata": {},
   "outputs": [
    {
     "name": "stderr",
     "output_type": "stream",
     "text": [
      "c:\\Users\\34626\\anaconda3\\lib\\site-packages\\statsbombpy\\api_client.py:21: NoAuthWarning: credentials were not supplied. open data access only\n",
      "  warnings.warn(\n"
     ]
    }
   ],
   "source": [
    "lineups = sb.lineups(match_id=69312)"
   ]
  },
  {
   "cell_type": "code",
   "execution_count": 18,
   "metadata": {},
   "outputs": [
    {
     "data": {
      "text/plain": [
       "{'Barcelona':     player_id                       player_name  player_nickname  \\\n",
       " 0        3385  Alexis Alejandro Sánchez Sánchez   Alexis Sánchez   \n",
       " 1        3478         Francesc Fàbregas i Soler    Cesc Fàbregas   \n",
       " 2        3958   Pedro Eliezer Rodríguez Ledesma            Pedro   \n",
       " 3        4324             Daniel Alves da Silva       Dani Alves   \n",
       " 4        5203          Sergio Busquets i Burgos  Sergio Busquets   \n",
       " 5        5213             Gerard Piqué Bernabéu     Gerard Piqué   \n",
       " 6        5216              Andrés Iniesta Luján   Andrés Iniesta   \n",
       " 7        5503    Lionel Andrés Messi Cuccittini     Lionel Messi   \n",
       " 8       20125          Carles Puyol i Saforcada     Carles Puyol   \n",
       " 9       20131            Xavier Hernández Creus             Xavi   \n",
       " 10      20169                      Seydou Kéita     Seydou Kéita   \n",
       " 11      20176             Víctor Valdés Arribas    Víctor Valdés   \n",
       " 12      20177         Eric-Sylvain Bilal Abidal      Éric Abidal   \n",
       " \n",
       "     jersey_number    country  \\\n",
       " 0               9      Chile   \n",
       " 1               4      Spain   \n",
       " 2              17      Spain   \n",
       " 3               2     Brazil   \n",
       " 4              16      Spain   \n",
       " 5               3      Spain   \n",
       " 6               8      Spain   \n",
       " 7              10  Argentina   \n",
       " 8               5      Spain   \n",
       " 9               6      Spain   \n",
       " 10             15       Mali   \n",
       " 11              1      Spain   \n",
       " 12             22     France   \n",
       " \n",
       "                                                 cards  \\\n",
       " 0                                                  []   \n",
       " 1                                                  []   \n",
       " 2                                                  []   \n",
       " 3                                                  []   \n",
       " 4                                                  []   \n",
       " 5                                                  []   \n",
       " 6                                                  []   \n",
       " 7   [{'time': '13:02', 'card_type': 'Yellow Card',...   \n",
       " 8                                                  []   \n",
       " 9                                                  []   \n",
       " 10                                                 []   \n",
       " 11                                                 []   \n",
       " 12                                                 []   \n",
       " \n",
       "                                             positions  \n",
       " 0   [{'position_id': 17, 'position': 'Right Wing',...  \n",
       " 1   [{'position_id': 21, 'position': 'Left Wing', ...  \n",
       " 2   [{'position_id': 17, 'position': 'Right Wing',...  \n",
       " 3   [{'position_id': 2, 'position': 'Right Back', ...  \n",
       " 4   [{'position_id': 10, 'position': 'Center Defen...  \n",
       " 5   [{'position_id': 5, 'position': 'Left Center B...  \n",
       " 6   [{'position_id': 13, 'position': 'Right Center...  \n",
       " 7   [{'position_id': 23, 'position': 'Center Forwa...  \n",
       " 8   [{'position_id': 3, 'position': 'Right Center ...  \n",
       " 9   [{'position_id': 15, 'position': 'Left Center ...  \n",
       " 10  [{'position_id': 21, 'position': 'Left Wing', ...  \n",
       " 11  [{'position_id': 1, 'position': 'Goalkeeper', ...  \n",
       " 12  [{'position_id': 6, 'position': 'Left Back', '...  ,\n",
       " 'Espanyol':     player_id                      player_name   player_nickname  \\\n",
       " 0        5573    Héctor Alfredo Moreno Herrera     Héctor Moreno   \n",
       " 1        6652                  Jordi Amat Maas        Jordi Amat   \n",
       " 2        6706         Francisco Casilla Cortés      Kiko Casilla   \n",
       " 3        6767       Sergio García De La Fuente     Sergio García   \n",
       " 4        6791           Javier López Rodríguez        Javi López   \n",
       " 5        6886              Dídac Vilá Rosselló        Dídac Vilá   \n",
       " 6       10922                   Vladimír Weiss              None   \n",
       " 7       24035            Álvaro Vázquez García    Álvaro Vázquez   \n",
       " 8       24040           Cristian Darío Álvarez  Cristian Álvarez   \n",
       " 9       24744               Juan Daniel Forlín       Juan Forlín   \n",
       " 10      26211             Joan Verdú Fernández        Joan Verdú   \n",
       " 11      26480   Christian Koffi Romaric N''Dri           Romaric   \n",
       " 12      26667           Raúl Rodríguez Navarro    Raúl Rodríguez   \n",
       " 13      26775  Thievy Guivane Bifouma Koulossa    Thievy Bifouma   \n",
       " \n",
       "     jersey_number              country  \\\n",
       " 0              15               Mexico   \n",
       " 1               5                Spain   \n",
       " 2              13                Spain   \n",
       " 3               9                Spain   \n",
       " 4              16                Spain   \n",
       " 5              22                Spain   \n",
       " 6              17             Slovakia   \n",
       " 7               8                Spain   \n",
       " 8              25            Argentina   \n",
       " 9              18            Argentina   \n",
       " 10             10                Spain   \n",
       " 11             11        Côte d'Ivoire   \n",
       " 12              3                Spain   \n",
       " 13             39  Congo (Brazzaville)   \n",
       " \n",
       "                                                 cards  \\\n",
       " 0                                                  []   \n",
       " 1   [{'time': '89:30', 'card_type': 'Yellow Card',...   \n",
       " 2   [{'time': '92:07', 'card_type': 'Yellow Card',...   \n",
       " 3   [{'time': '85:48', 'card_type': 'Yellow Card',...   \n",
       " 4                                                  []   \n",
       " 5                                                  []   \n",
       " 6                                                  []   \n",
       " 7   [{'time': '75:53', 'card_type': 'Yellow Card',...   \n",
       " 8                                                  []   \n",
       " 9   [{'time': '90:28', 'card_type': 'Yellow Card',...   \n",
       " 10                                                 []   \n",
       " 11  [{'time': '44:45', 'card_type': 'Yellow Card',...   \n",
       " 12  [{'time': '69:04', 'card_type': 'Yellow Card',...   \n",
       " 13                                                 []   \n",
       " \n",
       "                                             positions  \n",
       " 0   [{'position_id': 5, 'position': 'Left Center B...  \n",
       " 1   [{'position_id': 3, 'position': 'Right Center ...  \n",
       " 2   [{'position_id': 1, 'position': 'Goalkeeper', ...  \n",
       " 3   [{'position_id': 23, 'position': 'Center Forwa...  \n",
       " 4   [{'position_id': 21, 'position': 'Left Wing', ...  \n",
       " 5   [{'position_id': 6, 'position': 'Left Back', '...  \n",
       " 6   [{'position_id': 21, 'position': 'Left Wing', ...  \n",
       " 7   [{'position_id': 9, 'position': 'Right Defensi...  \n",
       " 8   [{'position_id': 1, 'position': 'Goalkeeper', ...  \n",
       " 9   [{'position_id': 11, 'position': 'Left Defensi...  \n",
       " 10  [{'position_id': 19, 'position': 'Center Attac...  \n",
       " 11  [{'position_id': 9, 'position': 'Right Defensi...  \n",
       " 12  [{'position_id': 2, 'position': 'Right Back', ...  \n",
       " 13  [{'position_id': 17, 'position': 'Right Wing',...  }"
      ]
     },
     "execution_count": 18,
     "metadata": {},
     "output_type": "execute_result"
    }
   ],
   "source": [
    "lineups"
   ]
  },
  {
   "cell_type": "code",
   "execution_count": 29,
   "metadata": {},
   "outputs": [],
   "source": [
    "def extract_player_names_for_team(json_data, team_name):\n",
    "    player_names_dict = {}\n",
    "\n",
    "    if team_name in json_data:\n",
    "        players_df = json_data[team_name]\n",
    "        for _, player_row in players_df.iterrows():\n",
    "            player_name = player_row[\"player_name\"]\n",
    "            player_nickname = player_row[\"player_nickname\"]\n",
    "            if pd.notna(player_nickname):\n",
    "                player_names_dict[player_name] = player_nickname\n",
    "\n",
    "    return player_names_dict"
   ]
  },
  {
   "cell_type": "code",
   "execution_count": 30,
   "metadata": {},
   "outputs": [],
   "source": [
    "a = extract_player_names_for_team(lineups, 'Espanyol' )"
   ]
  },
  {
   "cell_type": "code",
   "execution_count": 19,
   "metadata": {},
   "outputs": [],
   "source": [
    "names_dict = {player[\"player_name\"]: player[\"player_nickname\"]\n",
    "              for team in lineups if \"lineup\" in team\n",
    "              for player in team[\"lineup\"]}"
   ]
  },
  {
   "cell_type": "markdown",
   "metadata": {},
   "source": [
    "## Processing"
   ]
  },
  {
   "cell_type": "code",
   "execution_count": 34,
   "metadata": {},
   "outputs": [],
   "source": [
    "def read_data(match_id):\n",
    "    \"\"\"\n",
    "    Read StatsBomb eventing data of the selected 'match_id', generating a pandas DataFrame\n",
    "    with the events and a dictionary of player names and nicknames.\n",
    "    \"\"\"\n",
    "    lineups = sb.lineups(match_id=match_id)\n",
    "    events = sb.events(match_id=match_id)\n",
    "\n",
    "    return lineups, events"
   ]
  },
  {
   "cell_type": "code",
   "execution_count": 35,
   "metadata": {},
   "outputs": [],
   "source": [
    "def extract_player_names_for_team(json_data, team_name):\n",
    "    player_names_dict = {}\n",
    "\n",
    "    if team_name in json_data:\n",
    "        players_df = json_data[team_name]\n",
    "        for _, player_row in players_df.iterrows():\n",
    "            player_name = player_row[\"player_name\"]\n",
    "            player_nickname = player_row[\"player_nickname\"]\n",
    "            if pd.notna(player_nickname):\n",
    "                player_names_dict[player_name] = player_nickname\n",
    "\n",
    "    return player_names_dict"
   ]
  },
  {
   "cell_type": "code",
   "execution_count": 49,
   "metadata": {},
   "outputs": [],
   "source": [
    "def compute_total_minutes(events):\n",
    "    \"\"\"Compute the maximum number of minutes that are used for the passing network.\n",
    "    The idea is not to have more/less than 11 players in the team because of substitutions or red cards.\n",
    "    \"\"\"\n",
    "    first_red_card_minute = events[events.foul_committed_card.isin([\"Second Yellow\", \"Red Card\"])].minute.min()\n",
    "    first_substitution_minute = events[events.type == \"Substitution\"].minute.min()\n",
    "    max_minute = events.minute.max()\n",
    "\n",
    "    num_minutes = min(first_substitution_minute, first_red_card_minute, max_minute)\n",
    "\n",
    "    return num_minutes"
   ]
  },
  {
   "cell_type": "code",
   "execution_count": 50,
   "metadata": {},
   "outputs": [
    {
     "name": "stderr",
     "output_type": "stream",
     "text": [
      "c:\\Users\\34626\\anaconda3\\lib\\site-packages\\statsbombpy\\api_client.py:21: NoAuthWarning: credentials were not supplied. open data access only\n",
      "  warnings.warn(\n"
     ]
    }
   ],
   "source": [
    "lineups, df_events = read_data(69312)"
   ]
  },
  {
   "cell_type": "code",
   "execution_count": 47,
   "metadata": {},
   "outputs": [
    {
     "data": {
      "text/plain": [
       "Index(['bad_behaviour_card', 'ball_receipt_outcome',\n",
       "       'ball_recovery_recovery_failure', 'block_save_block',\n",
       "       'carry_end_location', 'clearance_aerial_won', 'clearance_body_part',\n",
       "       'clearance_head', 'clearance_left_foot', 'clearance_right_foot',\n",
       "       'counterpress', 'dribble_nutmeg', 'dribble_outcome', 'dribble_overrun',\n",
       "       'duel_outcome', 'duel_type', 'duration', 'foul_committed_advantage',\n",
       "       'foul_committed_card', 'foul_committed_type', 'foul_won_advantage',\n",
       "       'foul_won_defensive', 'goalkeeper_body_part', 'goalkeeper_end_location',\n",
       "       'goalkeeper_outcome', 'goalkeeper_position', 'goalkeeper_technique',\n",
       "       'goalkeeper_type', 'id', 'index', 'interception_outcome', 'location',\n",
       "       'match_id', 'minute', 'miscontrol_aerial_won', 'off_camera', 'out',\n",
       "       'pass_aerial_won', 'pass_angle', 'pass_assisted_shot_id',\n",
       "       'pass_body_part', 'pass_cross', 'pass_deflected', 'pass_end_location',\n",
       "       'pass_goal_assist', 'pass_height', 'pass_inswinging', 'pass_length',\n",
       "       'pass_no_touch', 'pass_outcome', 'pass_outswinging', 'pass_recipient',\n",
       "       'pass_shot_assist', 'pass_switch', 'pass_technique',\n",
       "       'pass_through_ball', 'pass_type', 'period', 'play_pattern', 'player',\n",
       "       'player_id', 'position', 'possession', 'possession_team',\n",
       "       'possession_team_id', 'related_events', 'second', 'shot_body_part',\n",
       "       'shot_end_location', 'shot_first_time', 'shot_freeze_frame',\n",
       "       'shot_key_pass_id', 'shot_outcome', 'shot_statsbomb_xg',\n",
       "       'shot_technique', 'shot_type', 'substitution_outcome',\n",
       "       'substitution_replacement', 'tactics', 'team', 'team_id', 'timestamp',\n",
       "       'type', 'under_pressure'],\n",
       "      dtype='object')"
      ]
     },
     "execution_count": 47,
     "metadata": {},
     "output_type": "execute_result"
    }
   ],
   "source": [
    "df_events.columns"
   ]
  },
  {
   "cell_type": "code",
   "execution_count": 51,
   "metadata": {},
   "outputs": [],
   "source": [
    "player_names = extract_player_names_for_team(lineups, \"Espanyol\")\n",
    "num_minutes = compute_total_minutes(df_events)"
   ]
  },
  {
   "cell_type": "code",
   "execution_count": null,
   "metadata": {},
   "outputs": [],
   "source": []
  }
 ],
 "metadata": {
  "kernelspec": {
   "display_name": "base",
   "language": "python",
   "name": "python3"
  },
  "language_info": {
   "codemirror_mode": {
    "name": "ipython",
    "version": 3
   },
   "file_extension": ".py",
   "mimetype": "text/x-python",
   "name": "python",
   "nbconvert_exporter": "python",
   "pygments_lexer": "ipython3",
   "version": "3.9.18"
  }
 },
 "nbformat": 4,
 "nbformat_minor": 2
}
